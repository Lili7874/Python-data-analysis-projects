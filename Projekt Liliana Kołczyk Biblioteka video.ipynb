{
 "cells": [
  {
   "cell_type": "markdown",
   "id": "db76c5c2-beec-49b2-8096-c8c7d3116e09",
   "metadata": {},
   "source": [
    "---"
   ]
  },
  {
   "cell_type": "markdown",
   "id": "711ca931-bacd-41eb-b4e7-54ecc2d17f35",
   "metadata": {},
   "source": [
    "<h1 style=\"text-align: center; background-color: #483D8B; height: 37px; \">🎥 Przetwarzanie plików video za pomocą MoviePy 🎥</h1>"
   ]
  },
  {
   "cell_type": "markdown",
   "id": "4636c6e8-62c4-4d59-95ce-30b4d3e6984d",
   "metadata": {},
   "source": [
    "<h3 style=\"text-align: center; background-color: #E6E6FA; height: 27px; \">👩🏻‍🎓 Liliana Kołczyk | 👩🏻‍🎓 Cornelia Jędrzejewska</h3>"
   ]
  },
  {
   "cell_type": "markdown",
   "id": "a3c64fb2-5b34-440a-906c-70f3a9c0257d",
   "metadata": {},
   "source": [
    "---"
   ]
  },
  {
   "cell_type": "markdown",
   "id": "649b89fd-a6bf-419c-a490-50c5e246cd85",
   "metadata": {},
   "source": [
    "*MoviePy to biblioteka Pythona do edycji i przetwarzania wideo. Pozwala na manipulowanie plikami wideo poprzez dodawanie efektów, przycinanie, łączenie, wstawianie tekstów, dźwięków, a także konwertowanie formatów. MoviePy umożliwia pracę z wideo w sposób programistyczny, oferując dużą elastyczność w tworzeniu automatycznych procesów edycji multimediów. Jest szeroko stosowana w projektach, które wymagają zaawansowanej obróbki wideo, jak również w prostych zadaniach, takich jak cięcie czy zmiana rozdzielczości.*"
   ]
  },
  {
   "cell_type": "markdown",
   "id": "15106c7e-16be-4522-b858-c803f4eca952",
   "metadata": {},
   "source": [
    "<h2 style=\"height: 27px; background-color:#9370DB; text-align: center;\">Importowanie niezbędnych bibliotek:</h2>"
   ]
  },
  {
   "cell_type": "code",
   "execution_count": 14,
   "id": "f72bbd1c-c795-46da-a281-227252ab4d41",
   "metadata": {},
   "outputs": [],
   "source": [
    "from moviepy import *\n",
    "from IPython.display import Video\n",
    "from IPython.display import Audio"
   ]
  },
  {
   "cell_type": "markdown",
   "id": "39e40eaf-f5f4-41b6-90aa-de0ea9be6ea6",
   "metadata": {},
   "source": [
    "<center><em>1. from moviepy import * – Importuje wszystkie komponenty biblioteki MoviePy, umożliwiając dostęp do funkcji do edycji i przetwarzania wideo, takich jak cięcie, łączenie klipów, dodawanie efektów czy manipulowanie ścieżkami dźwiękowymi. Dzięki temu można używać wszystkich funkcji dostępnych w MoviePy bez potrzeby importowania ich pojedynczo.</em></center></br>\n",
    "\n",
    "<center><em>2. from IPython.display import Video – Importuje klasę Video z modułu IPython.display, która pozwala na wyświetlanie plików wideo w notatnikach Jupyter. Umożliwia to odtwarzanie wideo bezpośrednio w interfejsie Jupyter Notebook lub JupyterLab.</em></center></br>\n",
    "\n",
    "<center><em>3. from IPython.display import Audio – Importuje klasę Audio z modułu IPython.display, która umożliwia wyświetlanie i odtwarzanie plików audio w notatnikach Jupyter. Dzięki niej można łatwo integrować dźwięki z kodem, co przydaje się w analizach multimedialnych.</em></center>"
   ]
  },
  {
   "cell_type": "markdown",
   "id": "205da1f8-79d6-4a29-9a78-711a9ecd1e30",
   "metadata": {},
   "source": [
    "<h2 style=\"height: 27px; background-color:#9370DB; text-align: center;\">Wczytujemy plik wideo:</h2>"
   ]
  },
  {
   "cell_type": "code",
   "execution_count": 17,
   "id": "7d53b99d-d711-465f-bf51-86ffee829d95",
   "metadata": {},
   "outputs": [],
   "source": [
    "clip = VideoFileClip('example_video.mp4')"
   ]
  },
  {
   "cell_type": "code",
   "execution_count": 18,
   "id": "8827fdd6-21aa-41e6-ae42-cdcac8b36804",
   "metadata": {},
   "outputs": [],
   "source": [
    "clip2 = VideoFileClip(\"example_video2.mp4\")"
   ]
  },
  {
   "cell_type": "markdown",
   "id": "3259fed2-8824-4254-b3e7-6126d217f0da",
   "metadata": {},
   "source": [
    "<h2 style=\"height: 27px; background-color:#9370DB; text-align: center;\">Wczytujemy plik audio i przycinamy go:</h2>"
   ]
  },
  {
   "cell_type": "code",
   "execution_count": 20,
   "id": "01c10191-2f48-468e-b1d2-756f63fe1cb8",
   "metadata": {},
   "outputs": [],
   "source": [
    "audio = AudioFileClip(\"audio.mp3\")\n",
    "audio = audio.subclipped(0, 50)"
   ]
  },
  {
   "cell_type": "markdown",
   "id": "89209216-6c5a-4241-8eae-ebca6f543c62",
   "metadata": {},
   "source": [
    "<h2 style=\"height: 27px; background-color:#9370DB; text-align: center;\">Wyświetlenie plików video:</h2>"
   ]
  },
  {
   "cell_type": "code",
   "execution_count": 22,
   "id": "e3466790-d2c1-4691-89d6-3924fe9e9d0c",
   "metadata": {},
   "outputs": [
    {
     "data": {
      "text/html": [
       "<video src=\"example_video.mp4\" controls  width=\"350\" >\n",
       "      Your browser does not support the <code>video</code> element.\n",
       "    </video>"
      ],
      "text/plain": [
       "<IPython.core.display.Video object>"
      ]
     },
     "metadata": {},
     "output_type": "display_data"
    }
   ],
   "source": [
    "display(Video('example_video.mp4', width=350))"
   ]
  },
  {
   "cell_type": "code",
   "execution_count": 23,
   "id": "2a667e4a-24ed-4948-8936-018991628e35",
   "metadata": {},
   "outputs": [
    {
     "data": {
      "text/html": [
       "<video src=\"example_video2.mp4\" controls  width=\"350\" >\n",
       "      Your browser does not support the <code>video</code> element.\n",
       "    </video>"
      ],
      "text/plain": [
       "<IPython.core.display.Video object>"
      ]
     },
     "metadata": {},
     "output_type": "display_data"
    }
   ],
   "source": [
    "display(Video('example_video2.mp4', width=350))"
   ]
  },
  {
   "cell_type": "markdown",
   "id": "c77d9110-5ab3-44f0-a32f-c38ea9f074e1",
   "metadata": {},
   "source": [
    "<h2 style=\"height: 27px; background-color:#9370DB; text-align: center;\">Podstawowe informacje o wideo:</h2>"
   ]
  },
  {
   "cell_type": "code",
   "execution_count": 25,
   "id": "3fc644d3-3c04-403e-8371-b31b9e54c93a",
   "metadata": {},
   "outputs": [
    {
     "name": "stdout",
     "output_type": "stream",
     "text": [
      "Duracja wideo: 25.08 sekund\n",
      "Rozdzielczość wideo: [1920, 1080]\n",
      "Liczenie klatek na sekundę: 30.0\n"
     ]
    }
   ],
   "source": [
    "print(f\"Duracja wideo: {clip.duration} sekund\")\n",
    "print(f\"Rozdzielczość wideo: {clip.size}\")\n",
    "print(f\"Liczenie klatek na sekundę: {clip.fps}\")"
   ]
  },
  {
   "cell_type": "code",
   "execution_count": 26,
   "id": "510a3401-901d-403a-bc98-ce250f6e9072",
   "metadata": {},
   "outputs": [
    {
     "name": "stdout",
     "output_type": "stream",
     "text": [
      "Duracja wideo: 25.52 sekund\n",
      "Rozdzielczość wideo: [1920, 1080]\n",
      "Liczenie klatek na sekundę: 30.0\n"
     ]
    }
   ],
   "source": [
    "print(f\"Duracja wideo: {clip2.duration} sekund\")\n",
    "print(f\"Rozdzielczość wideo: {clip2.size}\")\n",
    "print(f\"Liczenie klatek na sekundę: {clip2.fps}\")"
   ]
  },
  {
   "cell_type": "markdown",
   "id": "a35733c1-c553-4995-81f6-c5a0f01a9ddb",
   "metadata": {},
   "source": [
    "<h2 style=\"height: 27px; background-color:#9370DB; text-align: center;\">Przycinanie wideo (od 0 do 15 sekund):</h2>"
   ]
  },
  {
   "cell_type": "markdown",
   "id": "cc0b4655-1703-43de-a281-03aab983476e",
   "metadata": {},
   "source": [
    "<center><em>Metoda subclipped() skraca wideo o zadaną długość.</center></em>"
   ]
  },
  {
   "cell_type": "code",
   "execution_count": 29,
   "id": "760f0592-cefd-4564-a021-f1e80b737521",
   "metadata": {},
   "outputs": [],
   "source": [
    "clip3 = clip.subclipped(0,15)"
   ]
  },
  {
   "cell_type": "code",
   "execution_count": 30,
   "id": "ab487438-ad6a-452f-a773-6da05c71c14d",
   "metadata": {},
   "outputs": [
    {
     "name": "stdout",
     "output_type": "stream",
     "text": [
      "MoviePy - Building video subclip_output.mp4.\n",
      "MoviePy - Writing audio in subclip_outputTEMP_MPY_wvf_snd.mp3\n"
     ]
    },
    {
     "name": "stderr",
     "output_type": "stream",
     "text": [
      "                                                                   \r"
     ]
    },
    {
     "name": "stdout",
     "output_type": "stream",
     "text": [
      "MoviePy - Done.\n",
      "MoviePy - Writing video subclip_output.mp4\n",
      "\n"
     ]
    },
    {
     "name": "stderr",
     "output_type": "stream",
     "text": [
      "                                                                        \r"
     ]
    },
    {
     "name": "stdout",
     "output_type": "stream",
     "text": [
      "MoviePy - Done !\n",
      "MoviePy - video ready subclip_output.mp4\n"
     ]
    }
   ],
   "source": [
    "clip3.write_videofile(\"subclip_output.mp4\")"
   ]
  },
  {
   "cell_type": "code",
   "execution_count": 31,
   "id": "ac72f6c1-5f66-4757-ada8-3e69fe784c5f",
   "metadata": {},
   "outputs": [
    {
     "data": {
      "text/html": [
       "<video src=\"subclip_output.mp4\" controls  width=\"350\" >\n",
       "      Your browser does not support the <code>video</code> element.\n",
       "    </video>"
      ],
      "text/plain": [
       "<IPython.core.display.Video object>"
      ]
     },
     "metadata": {},
     "output_type": "display_data"
    }
   ],
   "source": [
    "display(Video('subclip_output.mp4', width=350))"
   ]
  },
  {
   "cell_type": "markdown",
   "id": "347e228f-0113-4816-8bbe-3fdd62e71c6a",
   "metadata": {},
   "source": [
    "<h2 style=\"height: 27px; background-color:#9370DB; text-align: center;\">Obrót wideo (np. o 180 stopni):</h2>"
   ]
  },
  {
   "cell_type": "markdown",
   "id": "fff62b67-4188-40ac-87bf-da71a2d998d2",
   "metadata": {},
   "source": [
    "<center><em>Metoda rotated() obraca wideo o zadany kąt w stopniach.</center></em>"
   ]
  },
  {
   "cell_type": "code",
   "execution_count": 34,
   "id": "1c2d3822-9737-4e0f-b059-2082d983128f",
   "metadata": {},
   "outputs": [],
   "source": [
    "clip4 = clip.rotated(180)"
   ]
  },
  {
   "cell_type": "code",
   "execution_count": 35,
   "id": "9f679d1f-b50f-471e-a8ee-544bad3c05bb",
   "metadata": {},
   "outputs": [
    {
     "name": "stdout",
     "output_type": "stream",
     "text": [
      "MoviePy - Building video rotated_output.mp4.\n",
      "MoviePy - Writing audio in rotated_outputTEMP_MPY_wvf_snd.mp3\n"
     ]
    },
    {
     "name": "stderr",
     "output_type": "stream",
     "text": [
      "                                                                   \r"
     ]
    },
    {
     "name": "stdout",
     "output_type": "stream",
     "text": [
      "MoviePy - Done.\n",
      "MoviePy - Writing video rotated_output.mp4\n",
      "\n"
     ]
    },
    {
     "name": "stderr",
     "output_type": "stream",
     "text": [
      "frame_index: 100%|█████████▉| 751/752 [00:56<00:00, 16.12it/s, now=None]C:\\Users\\anna7\\anaconda3\\Lib\\site-packages\\moviepy\\video\\io\\ffmpeg_reader.py:157: UserWarning: In file example_video.mp4, 6220800 bytes wanted but 0 bytes read at frame index 751 (out of a total 752 frames), at time 25.03/25.08 sec. Using the last valid frame instead.\n",
      "  warnings.warn(\n",
      "                                                                        \r"
     ]
    },
    {
     "name": "stdout",
     "output_type": "stream",
     "text": [
      "MoviePy - Done !\n",
      "MoviePy - video ready rotated_output.mp4\n"
     ]
    }
   ],
   "source": [
    "clip4.write_videofile(\"rotated_output.mp4\")"
   ]
  },
  {
   "cell_type": "code",
   "execution_count": 36,
   "id": "ab0cf8d9-731d-46f9-8522-51a63a121a07",
   "metadata": {},
   "outputs": [
    {
     "data": {
      "text/html": [
       "<video src=\"rotated_output.mp4\" controls  width=\"350\" >\n",
       "      Your browser does not support the <code>video</code> element.\n",
       "    </video>"
      ],
      "text/plain": [
       "<IPython.core.display.Video object>"
      ]
     },
     "metadata": {},
     "output_type": "display_data"
    }
   ],
   "source": [
    "display(Video('rotated_output.mp4', width=350))"
   ]
  },
  {
   "cell_type": "markdown",
   "id": "f1af9889-7362-4148-867c-15243bcba31d",
   "metadata": {},
   "source": [
    "<h2 style=\"height: 27px; background-color:#9370DB; text-align: center;\">Dodanie tekstu na ekranie i ustawienie jego pozycji:</h2>"
   ]
  },
  {
   "cell_type": "markdown",
   "id": "d70e1646-b225-4795-81ff-c83ae6e0d3b1",
   "metadata": {},
   "source": [
    "<center><em>Metoda CompositeVideoClip() umożliwia dodanie tekstu do wideo.</em></center>"
   ]
  },
  {
   "cell_type": "code",
   "execution_count": 39,
   "id": "cdca51be-1543-4a6e-bdf2-bfdec3f4fc47",
   "metadata": {},
   "outputs": [],
   "source": [
    "txt_clip = TextClip(\n",
    "    # Określenie ścieżki do czcionki. W tym przypadku jest to czcionka Arial znajdująca się w katalogu systemowym Windows.\n",
    "    font=\"C:\\\\Windows\\\\Fonts\\\\arial.ttf\",\n",
    "    \n",
    "    # Tekst, który ma zostać wyświetlony na klipie. Można zmienić \"Hello there!\" na dowolny inny tekst.\n",
    "    text=\"Hello there!\",\n",
    "    \n",
    "    # Określenie rozmiaru czcionki. Wartość 70 oznacza dużą czcionkę.\n",
    "    font_size=70,\n",
    "    \n",
    "    # Określenie koloru tekstu. Wartość 'white' oznacza biały kolor tekstu.\n",
    "    color='white'\n",
    ")\n",
    "\n",
    "# Określenie czasu trwania tekstu na ekranie. Tekst będzie wyświetlany przez 10 sekund.\n",
    "txt_clip = txt_clip.with_duration(10)\n",
    "\n",
    "# Określenie pozycji tekstu na ekranie. 'center' ustawia tekst na środku klipu.\n",
    "txt_clip = txt_clip.with_position('center')"
   ]
  },
  {
   "cell_type": "code",
   "execution_count": 40,
   "id": "6fcc800b-c5d4-46d1-b82a-32f313ceadd6",
   "metadata": {},
   "outputs": [],
   "source": [
    "clip5 = CompositeVideoClip([clip, txt_clip])"
   ]
  },
  {
   "cell_type": "code",
   "execution_count": 41,
   "id": "f059590d-1648-47cc-8b71-b2e6ec73da5e",
   "metadata": {},
   "outputs": [
    {
     "name": "stdout",
     "output_type": "stream",
     "text": [
      "MoviePy - Building video texted_output.mp4.\n",
      "MoviePy - Writing audio in texted_outputTEMP_MPY_wvf_snd.mp3\n"
     ]
    },
    {
     "name": "stderr",
     "output_type": "stream",
     "text": [
      "                                                                    \r"
     ]
    },
    {
     "name": "stdout",
     "output_type": "stream",
     "text": [
      "MoviePy - Done.\n",
      "MoviePy - Writing video texted_output.mp4\n",
      "\n"
     ]
    },
    {
     "name": "stderr",
     "output_type": "stream",
     "text": [
      "                                                                        \r"
     ]
    },
    {
     "name": "stdout",
     "output_type": "stream",
     "text": [
      "MoviePy - Done !\n",
      "MoviePy - video ready texted_output.mp4\n"
     ]
    }
   ],
   "source": [
    "clip5.write_videofile(\"texted_output.mp4\")"
   ]
  },
  {
   "cell_type": "code",
   "execution_count": 42,
   "id": "438bc73f-771a-46fd-a456-1e9e9e856b56",
   "metadata": {},
   "outputs": [
    {
     "data": {
      "text/html": [
       "<video src=\"texted_output.mp4\" controls  width=\"350\" >\n",
       "      Your browser does not support the <code>video</code> element.\n",
       "    </video>"
      ],
      "text/plain": [
       "<IPython.core.display.Video object>"
      ]
     },
     "metadata": {},
     "output_type": "display_data"
    }
   ],
   "source": [
    "display(Video('texted_output.mp4', width=350))"
   ]
  },
  {
   "cell_type": "markdown",
   "id": "6a1915c3-cc09-4b7e-ad03-2524f53d118a",
   "metadata": {},
   "source": [
    "<h2 style=\"height: 27px; background-color:#9370DB; text-align: center;\">Zmiana rozdzielczości wideo:</h2>"
   ]
  },
  {
   "cell_type": "markdown",
   "id": "338bab7e-c615-4b88-9956-fbde4380e2e0",
   "metadata": {},
   "source": [
    "<center><em>Metoda resized() zmiania rozdzielczości wideo, skalując je do podanych wymiarów lub procentowo względem oryginalnych rozmiarów.</center></em>"
   ]
  },
  {
   "cell_type": "code",
   "execution_count": 45,
   "id": "e69251b2-6a16-48f6-9e19-1dbbf5bb964d",
   "metadata": {},
   "outputs": [],
   "source": [
    "clip6 = clip.resized(height = 640, width = 480)"
   ]
  },
  {
   "cell_type": "code",
   "execution_count": 46,
   "id": "db73c9b0-660e-46d0-af5a-ff322b5b7d59",
   "metadata": {},
   "outputs": [
    {
     "name": "stdout",
     "output_type": "stream",
     "text": [
      "MoviePy - Building video resized_output.mp4.\n",
      "MoviePy - Writing audio in resized_outputTEMP_MPY_wvf_snd.mp3\n"
     ]
    },
    {
     "name": "stderr",
     "output_type": "stream",
     "text": [
      "                                                                    \r"
     ]
    },
    {
     "name": "stdout",
     "output_type": "stream",
     "text": [
      "MoviePy - Done.\n",
      "MoviePy - Writing video resized_output.mp4\n",
      "\n"
     ]
    },
    {
     "name": "stderr",
     "output_type": "stream",
     "text": [
      "                                                                        \r"
     ]
    },
    {
     "name": "stdout",
     "output_type": "stream",
     "text": [
      "MoviePy - Done !\n",
      "MoviePy - video ready resized_output.mp4\n"
     ]
    }
   ],
   "source": [
    "clip6.write_videofile(\"resized_output.mp4\")"
   ]
  },
  {
   "cell_type": "code",
   "execution_count": 47,
   "id": "52af9fa3-92db-45e3-8a60-3da29183075c",
   "metadata": {},
   "outputs": [
    {
     "data": {
      "text/html": [
       "<video src=\"resized_output.mp4\" controls  width=\"350\" >\n",
       "      Your browser does not support the <code>video</code> element.\n",
       "    </video>"
      ],
      "text/plain": [
       "<IPython.core.display.Video object>"
      ]
     },
     "metadata": {},
     "output_type": "display_data"
    }
   ],
   "source": [
    "display(Video('resized_output.mp4', width=350))"
   ]
  },
  {
   "cell_type": "markdown",
   "id": "874ae7bb-24dd-44ba-9b9b-224d29b62c8c",
   "metadata": {},
   "source": [
    "<h2 style=\"height: 27px; background-color:#9370DB; text-align: center;\">Zmiana prędkości wideo (np. 1.5x przyspieszenie):</h2>"
   ]
  },
  {
   "cell_type": "markdown",
   "id": "12ff6c7d-10ec-4014-80d1-1c710b481796",
   "metadata": {},
   "source": [
    "<center><em>Metoda with_speed_scaled() umożliwia zmianę prędkości odtwarzania klipu wideo lub audio, przyspieszając lub zwalniając go na podstawie podanego współczynnika.</em></center>"
   ]
  },
  {
   "cell_type": "code",
   "execution_count": 50,
   "id": "4ead96a4-24d9-4e05-9d83-df9601fc49fe",
   "metadata": {},
   "outputs": [],
   "source": [
    "clip7 = clip.with_speed_scaled(1.5)"
   ]
  },
  {
   "cell_type": "code",
   "execution_count": 51,
   "id": "3de33877-62b4-4ad0-bdb0-994e744f1a14",
   "metadata": {},
   "outputs": [
    {
     "name": "stdout",
     "output_type": "stream",
     "text": [
      "MoviePy - Building video speeded_output.mp4.\n",
      "MoviePy - Writing audio in speeded_outputTEMP_MPY_wvf_snd.mp3\n"
     ]
    },
    {
     "name": "stderr",
     "output_type": "stream",
     "text": [
      "                                                                   \r"
     ]
    },
    {
     "name": "stdout",
     "output_type": "stream",
     "text": [
      "MoviePy - Done.\n",
      "MoviePy - Writing video speeded_output.mp4\n",
      "\n"
     ]
    },
    {
     "name": "stderr",
     "output_type": "stream",
     "text": [
      "                                                                        \r"
     ]
    },
    {
     "name": "stdout",
     "output_type": "stream",
     "text": [
      "MoviePy - Done !\n",
      "MoviePy - video ready speeded_output.mp4\n"
     ]
    }
   ],
   "source": [
    "clip7.write_videofile(\"speeded_output.mp4\")"
   ]
  },
  {
   "cell_type": "code",
   "execution_count": 52,
   "id": "eac2d6dc-3a98-42d5-b9cd-88c96326c52e",
   "metadata": {},
   "outputs": [
    {
     "data": {
      "text/html": [
       "<video src=\"speeded_output.mp4\" controls  width=\"350\" >\n",
       "      Your browser does not support the <code>video</code> element.\n",
       "    </video>"
      ],
      "text/plain": [
       "<IPython.core.display.Video object>"
      ]
     },
     "metadata": {},
     "output_type": "display_data"
    }
   ],
   "source": [
    "display(Video('speeded_output.mp4', width=350))"
   ]
  },
  {
   "cell_type": "markdown",
   "id": "6af6cd2e-ff07-4722-ab5d-313a8cacce0f",
   "metadata": {},
   "source": [
    "<h2 style=\"height: 27px; background-color:#9370DB; text-align: center;\">Tworzenie przejść między klipami:</h2>"
   ]
  },
  {
   "cell_type": "markdown",
   "id": "50bfbe39-0712-4d61-8321-00dc8ab1bb87",
   "metadata": {},
   "source": [
    "<center><em>Metoda concatenate_videoclips() służy do łączenia kilku klipów wideo w jeden, zachowując ich kolejność.</em></center>"
   ]
  },
  {
   "cell_type": "code",
   "execution_count": 58,
   "id": "e77d444c-d1f4-4d7d-b58e-1833e84ab085",
   "metadata": {},
   "outputs": [],
   "source": [
    "clip8 = concatenate_videoclips([clip, clip2])"
   ]
  },
  {
   "cell_type": "code",
   "execution_count": 60,
   "id": "86d135be-b4ed-4af5-a237-f34fc8ff0987",
   "metadata": {},
   "outputs": [
    {
     "name": "stdout",
     "output_type": "stream",
     "text": [
      "MoviePy - Building video transitioned_output.mp4.\n",
      "MoviePy - Writing audio in transitioned_outputTEMP_MPY_wvf_snd.mp3\n"
     ]
    },
    {
     "name": "stderr",
     "output_type": "stream",
     "text": [
      "                                                                     \r"
     ]
    },
    {
     "name": "stdout",
     "output_type": "stream",
     "text": [
      "MoviePy - Done.\n",
      "MoviePy - Writing video transitioned_output.mp4\n",
      "\n"
     ]
    },
    {
     "name": "stderr",
     "output_type": "stream",
     "text": [
      "frame_index:  50%|████▉     | 753/1517 [00:19<00:11, 66.23it/s, now=None]C:\\Users\\anna7\\anaconda3\\Lib\\site-packages\\moviepy\\video\\io\\ffmpeg_reader.py:157: UserWarning: In file example_video.mp4, 6220800 bytes wanted but 0 bytes read at frame index 752 (out of a total 752 frames), at time 25.07/25.08 sec. Using the last valid frame instead.\n",
      "  warnings.warn(\n",
      "                                                                          \r"
     ]
    },
    {
     "name": "stdout",
     "output_type": "stream",
     "text": [
      "MoviePy - Done !\n",
      "MoviePy - video ready transitioned_output.mp4\n"
     ]
    }
   ],
   "source": [
    "clip8.write_videofile(\"transitioned_output.mp4\")"
   ]
  },
  {
   "cell_type": "code",
   "execution_count": 62,
   "id": "2ef423b6-0fc4-4189-b86f-6f94e2aec871",
   "metadata": {},
   "outputs": [
    {
     "data": {
      "text/html": [
       "<video src=\"transitioned_output.mp4\" controls  width=\"350\" >\n",
       "      Your browser does not support the <code>video</code> element.\n",
       "    </video>"
      ],
      "text/plain": [
       "<IPython.core.display.Video object>"
      ]
     },
     "metadata": {},
     "output_type": "display_data"
    }
   ],
   "source": [
    "display(Video('transitioned_output.mp4', width=350))"
   ]
  },
  {
   "cell_type": "markdown",
   "id": "c3f186c7-5f13-4754-857e-4123995a683a",
   "metadata": {},
   "source": [
    "<h2 style=\"height: 27px; background-color:#9370DB; text-align: center;\">Dodanie muzyki do wideo:</h2>"
   ]
  },
  {
   "cell_type": "markdown",
   "id": "c9678e4a-917b-4390-9f11-bd9f4cba95a7",
   "metadata": {},
   "source": [
    "<center><em>Metoda with_audio() pozwala na dodanie lub zastąpienie ścieżki dźwiękowej w klipie wideo, łącząc go z podanym plikiem audio lub zmieniając istniejący dźwięk.</em></center>"
   ]
  },
  {
   "cell_type": "code",
   "execution_count": 66,
   "id": "a2c27574-1ae7-409e-8ba0-6219486f4565",
   "metadata": {},
   "outputs": [],
   "source": [
    "clip9 = clip.with_audio(audio)"
   ]
  },
  {
   "cell_type": "code",
   "execution_count": 68,
   "id": "5d6c8f23-ce32-483f-b182-91aa75fb9ddb",
   "metadata": {},
   "outputs": [
    {
     "name": "stdout",
     "output_type": "stream",
     "text": [
      "MoviePy - Building video audio_output.mp4.\n",
      "MoviePy - Writing audio in audio_outputTEMP_MPY_wvf_snd.mp3\n"
     ]
    },
    {
     "name": "stderr",
     "output_type": "stream",
     "text": [
      "                                                                     \r"
     ]
    },
    {
     "name": "stdout",
     "output_type": "stream",
     "text": [
      "MoviePy - Done.\n",
      "MoviePy - Writing video audio_output.mp4\n",
      "\n"
     ]
    },
    {
     "name": "stderr",
     "output_type": "stream",
     "text": [
      "                                                                        \r"
     ]
    },
    {
     "name": "stdout",
     "output_type": "stream",
     "text": [
      "MoviePy - Done !\n",
      "MoviePy - video ready audio_output.mp4\n"
     ]
    }
   ],
   "source": [
    "clip9.write_videofile(\"audio_output.mp4\")"
   ]
  },
  {
   "cell_type": "code",
   "execution_count": 70,
   "id": "2f13c4d9-07a5-472c-85a7-b995026605ff",
   "metadata": {},
   "outputs": [
    {
     "data": {
      "text/html": [
       "<video src=\"audio_output.mp4\" controls  width=\"350\" >\n",
       "      Your browser does not support the <code>video</code> element.\n",
       "    </video>"
      ],
      "text/plain": [
       "<IPython.core.display.Video object>"
      ]
     },
     "metadata": {},
     "output_type": "display_data"
    }
   ],
   "source": [
    "display(Video('audio_output.mp4', width=350))"
   ]
  },
  {
   "cell_type": "markdown",
   "id": "f547215a-93a5-402d-80f6-c60c8f69cd27",
   "metadata": {},
   "source": [
    "<h2 style=\"height: 27px; background-color:#9370DB; text-align: center;\">Zmiana ogólnego koloru:</h2>"
   ]
  },
  {
   "cell_type": "markdown",
   "id": "430988c7-dcd2-41ca-99e6-449bc127ccf2",
   "metadata": {},
   "source": [
    "<center><em>Metoda with_effects() pozwala na zastosowanie efektów wizualnych do klipu wideo, takich jak filtry, przejścia czy inne modyfikacje obrazu, które są stosowane do klipu przed jego odtworzeniem lub zapisaniem.</em></center>"
   ]
  },
  {
   "cell_type": "code",
   "execution_count": 74,
   "id": "8382d4a8-fb34-4fd1-9be8-aa7470d63e17",
   "metadata": {},
   "outputs": [],
   "source": [
    "clip10 = clip.with_effects([vfx.MultiplyColor(0.5)])"
   ]
  },
  {
   "cell_type": "code",
   "execution_count": 76,
   "id": "f3513ba9-c42c-4abb-a223-b08fc6882824",
   "metadata": {},
   "outputs": [
    {
     "name": "stdout",
     "output_type": "stream",
     "text": [
      "MoviePy - Building video colored_output.mp4.\n",
      "MoviePy - Writing audio in colored_outputTEMP_MPY_wvf_snd.mp3\n"
     ]
    },
    {
     "name": "stderr",
     "output_type": "stream",
     "text": [
      "                                                                    \r"
     ]
    },
    {
     "name": "stdout",
     "output_type": "stream",
     "text": [
      "MoviePy - Done.\n",
      "MoviePy - Writing video colored_output.mp4\n",
      "\n"
     ]
    },
    {
     "name": "stderr",
     "output_type": "stream",
     "text": [
      "                                                                        \r"
     ]
    },
    {
     "name": "stdout",
     "output_type": "stream",
     "text": [
      "MoviePy - Done !\n",
      "MoviePy - video ready colored_output.mp4\n"
     ]
    }
   ],
   "source": [
    "clip10.write_videofile(\"colored_output.mp4\")"
   ]
  },
  {
   "cell_type": "code",
   "execution_count": 78,
   "id": "747951ac-81d1-413a-a766-7bb99562a179",
   "metadata": {},
   "outputs": [
    {
     "data": {
      "text/html": [
       "<video src=\"colored_output.mp4\" controls  width=\"350\" >\n",
       "      Your browser does not support the <code>video</code> element.\n",
       "    </video>"
      ],
      "text/plain": [
       "<IPython.core.display.Video object>"
      ]
     },
     "metadata": {},
     "output_type": "display_data"
    }
   ],
   "source": [
    "display(Video('colored_output.mp4', width=350))"
   ]
  },
  {
   "cell_type": "markdown",
   "id": "e552bc49-93b2-462e-95a5-376e4a1f4d69",
   "metadata": {},
   "source": [
    "<h2 style=\"height: 27px; background-color:#9370DB; text-align: center;\">Zmiana głośności wideo:</h2>"
   ]
  },
  {
   "cell_type": "code",
   "execution_count": 81,
   "id": "9b35339c-b621-44a8-975b-85c3c1d2b23f",
   "metadata": {},
   "outputs": [],
   "source": [
    "clip11 = clip.with_effects([afx.MultiplyVolume(0.5)])"
   ]
  },
  {
   "cell_type": "code",
   "execution_count": 83,
   "id": "2be48d71-af56-402e-8cf3-f5c4d7a4be0e",
   "metadata": {},
   "outputs": [
    {
     "name": "stdout",
     "output_type": "stream",
     "text": [
      "MoviePy - Building video volume_output.mp4.\n",
      "MoviePy - Writing audio in volume_outputTEMP_MPY_wvf_snd.mp3\n"
     ]
    },
    {
     "name": "stderr",
     "output_type": "stream",
     "text": [
      "                                                                   \r"
     ]
    },
    {
     "name": "stdout",
     "output_type": "stream",
     "text": [
      "MoviePy - Done.\n",
      "MoviePy - Writing video volume_output.mp4\n",
      "\n"
     ]
    },
    {
     "name": "stderr",
     "output_type": "stream",
     "text": [
      "                                                                        \r"
     ]
    },
    {
     "name": "stdout",
     "output_type": "stream",
     "text": [
      "MoviePy - Done !\n",
      "MoviePy - video ready volume_output.mp4\n"
     ]
    }
   ],
   "source": [
    "clip11.write_videofile(\"volume_output.mp4\")"
   ]
  },
  {
   "cell_type": "code",
   "execution_count": 85,
   "id": "656c430e-85d2-4e4c-a4fc-eaf788ce5e9c",
   "metadata": {},
   "outputs": [
    {
     "data": {
      "text/html": [
       "<video src=\"volume_output.mp4\" controls  width=\"350\" >\n",
       "      Your browser does not support the <code>video</code> element.\n",
       "    </video>"
      ],
      "text/plain": [
       "<IPython.core.display.Video object>"
      ]
     },
     "metadata": {},
     "output_type": "display_data"
    }
   ],
   "source": [
    "display(Video('volume_output.mp4', width=350))"
   ]
  },
  {
   "cell_type": "markdown",
   "id": "2808ba6e-96e9-44db-ba54-e69efe1ac794",
   "metadata": {},
   "source": [
    "<h2 style=\"height: 27px; background-color:#9370DB; text-align: center;\">Dodanie własnego efektu do wideo:</h2>"
   ]
  },
  {
   "cell_type": "markdown",
   "id": "d89ba35a-563e-4396-8327-d7ab6d728a7a",
   "metadata": {},
   "source": [
    "<center><em>Metoda transform() umożliwia stosowanie różnych transformacji do klipu wideo, takich jak obracanie, skalowanie, przesuwanie czy zmiana perspektywy, pozwalając na swobodną manipulację wyglądem wideo.</em></center>"
   ]
  },
  {
   "cell_type": "code",
   "execution_count": 89,
   "id": "90e0ecca-3b86-4a81-8c45-ea6c9cb982fd",
   "metadata": {},
   "outputs": [],
   "source": [
    "def filter(get_frame, t):\n",
    "    # Obliczenie postępu odtwarzania na podstawie czasu t oraz całkowitej długości klipu\n",
    "    progression = t / clip.duration\n",
    "    \n",
    "    # Wyliczenie szerokości paska w zależności od postępu w odtwarzaniu klipu\n",
    "    bar_width = int(progression * clip.w)\n",
    "\n",
    "    # Pobranie aktualnej klatki obrazu na czas t\n",
    "    frame = get_frame(t).copy()\n",
    "\n",
    "    # Modyfikacja ostatnich 10 wierszy klatki (frame) w celu narysowania paska w lewym górnym rogu.\n",
    "    # Kolor paska to czerwony (255, 0, 0), a jego szerokość to bar_width.\n",
    "    frame[-10:, 0:bar_width] = (255, 0, 0)\n",
    "\n",
    "    # Zwrócenie zmodyfikowanej klatki\n",
    "    return frame"
   ]
  },
  {
   "cell_type": "code",
   "execution_count": 91,
   "id": "1561e73d-5368-4dfa-bbfd-adbb57fe4187",
   "metadata": {},
   "outputs": [],
   "source": [
    "clip12 = clip.transform(filter, apply_to=\"mask\")"
   ]
  },
  {
   "cell_type": "code",
   "execution_count": 93,
   "id": "94417e58-39c8-47ea-a523-748f75aef7ec",
   "metadata": {},
   "outputs": [
    {
     "name": "stdout",
     "output_type": "stream",
     "text": [
      "MoviePy - Building video effect_output.mp4.\n",
      "MoviePy - Writing audio in effect_outputTEMP_MPY_wvf_snd.mp3\n"
     ]
    },
    {
     "name": "stderr",
     "output_type": "stream",
     "text": [
      "                                                                    \r"
     ]
    },
    {
     "name": "stdout",
     "output_type": "stream",
     "text": [
      "MoviePy - Done.\n",
      "MoviePy - Writing video effect_output.mp4\n",
      "\n"
     ]
    },
    {
     "name": "stderr",
     "output_type": "stream",
     "text": [
      "                                                                        \r"
     ]
    },
    {
     "name": "stdout",
     "output_type": "stream",
     "text": [
      "MoviePy - Done !\n",
      "MoviePy - video ready effect_output.mp4\n"
     ]
    }
   ],
   "source": [
    "clip12.write_videofile(\"effect_output.mp4\")"
   ]
  },
  {
   "cell_type": "code",
   "execution_count": 95,
   "id": "ff5fc737-201f-4974-a3f4-266fbc09b3d2",
   "metadata": {},
   "outputs": [
    {
     "data": {
      "text/html": [
       "<video src=\"effect_output.mp4\" controls  width=\"350\" >\n",
       "      Your browser does not support the <code>video</code> element.\n",
       "    </video>"
      ],
      "text/plain": [
       "<IPython.core.display.Video object>"
      ]
     },
     "metadata": {},
     "output_type": "display_data"
    }
   ],
   "source": [
    "display(Video('effect_output.mp4', width=350))"
   ]
  }
 ],
 "metadata": {
  "kernelspec": {
   "display_name": "Python 3 (ipykernel)",
   "language": "python",
   "name": "python3"
  },
  "language_info": {
   "codemirror_mode": {
    "name": "ipython",
    "version": 3
   },
   "file_extension": ".py",
   "mimetype": "text/x-python",
   "name": "python",
   "nbconvert_exporter": "python",
   "pygments_lexer": "ipython3",
   "version": "3.12.4"
  }
 },
 "nbformat": 4,
 "nbformat_minor": 5
}
