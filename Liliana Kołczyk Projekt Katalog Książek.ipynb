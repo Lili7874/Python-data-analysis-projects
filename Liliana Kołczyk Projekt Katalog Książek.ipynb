{
 "cells": [
  {
   "cell_type": "markdown",
   "id": "f1624676-1103-4dff-af27-883d4703eb86",
   "metadata": {},
   "source": [
    "***"
   ]
  },
  {
   "cell_type": "markdown",
   "id": "38a3345f-8e7c-4152-a7b7-57e47ed58f9c",
   "metadata": {},
   "source": [
    "<h1 style=\"text-align: center; background-color: #D2B48C; height: 37px; \">📚 Katalog Książek 📚</h1>"
   ]
  },
  {
   "cell_type": "markdown",
   "id": "4fb3fd1d-42bb-4e27-9f74-7515676909e0",
   "metadata": {},
   "source": [
    "<h3 style=\"text-align: center; background-color: #FFFAF0; height: 27px; \">🖋️ Liliana Kołczyk 🖋️</h3>"
   ]
  },
  {
   "cell_type": "markdown",
   "id": "0bbcafe9-18f5-42a1-8f41-7c96eb2b9a49",
   "metadata": {},
   "source": [
    "---"
   ]
  },
  {
   "cell_type": "markdown",
   "id": "0afb9468-8ad7-493e-809e-b29fe92ec4fc",
   "metadata": {},
   "source": [
    "<h2 style=\"height: 32px; background-color: #F5F5DC;\">1. 💻 Część kodowa:</h2>"
   ]
  },
  {
   "cell_type": "markdown",
   "id": "ae305b71-f60b-4705-ae96-f7d481885889",
   "metadata": {},
   "source": [
    "### Importowanie niezbędnych bibliotek:"
   ]
  },
  {
   "cell_type": "code",
   "execution_count": 3,
   "id": "441e0f18-998c-41dc-9af3-63c71062a9ef",
   "metadata": {},
   "outputs": [],
   "source": [
    "import requests # Biblioteka requests: Służy do wykonywania zapytań HTTP, np. do pobierania danych z API lub stron internetowych\n",
    "import pandas as pd # Biblioteka pandas: Narzędzie do analizy danych, umożliwia pracę z tabelami danych (DataFrame) i seriami (Series)\n",
    "from tabulate import tabulate # Biblioteka tabulate: Ułatwia formatowanie danych w czytelne tabele, przydatne do prezentacji w konsoli lub plikach\n",
    "import matplotlib.pyplot as plt # Biblioteka matplotlib.pyplot: Służy do tworzenia wykresów i wizualizacji danych w Pythonie"
   ]
  },
  {
   "cell_type": "markdown",
   "id": "cb21ceef-0fce-467c-977b-99c9bb5ba0ea",
   "metadata": {},
   "source": [
    "### Tworzenie lokalnego katalogu książek jako DataFrame"
   ]
  },
  {
   "cell_type": "code",
   "execution_count": 205,
   "id": "ebed4ed5-f8e1-48aa-b560-c79930ef2824",
   "metadata": {},
   "outputs": [],
   "source": [
    "local_catalog = pd.DataFrame(columns=[\"Tytuł\", \"Autor\", \"Rok wydania\", \"ISBN\"])"
   ]
  },
  {
   "cell_type": "markdown",
   "id": "dae4d243-09a5-408e-8ae0-9a3251b3b67f",
   "metadata": {},
   "source": [
    "### 📗 Funkcja do wyszukania książek w bazie API 📗"
   ]
  },
  {
   "cell_type": "code",
   "execution_count": 207,
   "id": "1ad21167-b907-411d-8584-a705cc23976e",
   "metadata": {},
   "outputs": [],
   "source": [
    "def search_books(query):\n",
    "    url = f\"https://openlibrary.org/search.json?q={query}\" # URL do zapytania do Open Library API z wprowadzonym zapytaniem\n",
    "    response = requests.get(url) # Zapytanie HTTP GET do API\n",
    "    if response.status_code == 200: # Sprawdzenie, czy zapytanie zakończyło się sukcesem, status kod 200 - poprawnie wykonane zapytanie\n",
    "        books = response.json().get('docs', []) # Pobieranie listy książek z klucza 'docs' w odpowiedzi JSON (lub pustą listę, jeśli brak wyników)\n",
    "        results = []\n",
    "        for book in books[:10]:  # Ograniczenie do 10 wyników\n",
    "            title = book.get('title', 'Brak tytułu') # Pobieranie tytułu, autora, roku wydania i ISBN oraz ich domyślnych wartości zastępczych\n",
    "            author = ', '.join(book.get('author_name', ['Nieznany autor']))\n",
    "            publish_year = book.get('first_publish_year', 'Nieznany rok')\n",
    "            isbn = book.get('isbn', ['Brak ISBN'])[0]\n",
    "            results.append({  # Stworzenie słownika\n",
    "                'Tytuł': title,\n",
    "                'Autor': author,\n",
    "                'Rok wydania': publish_year,\n",
    "                'ISBN': isbn\n",
    "            })\n",
    "        return pd.DataFrame(results) # Zwracanie wyników\n",
    "    else: # Uwzględnienie przyadku w którym wystąpi błąd połączenia oraz podanie informacji na jego temat\n",
    "        print(\"Błąd podczas łączenia z Open Library API.\")\n",
    "        return pd.DataFrame()"
   ]
  },
  {
   "cell_type": "code",
   "execution_count": 284,
   "id": "27d876ed-577d-4850-9596-21e5e230dd1d",
   "metadata": {},
   "outputs": [
    {
     "name": "stdin",
     "output_type": "stream",
     "text": [
      "Wprowadź tytuł lub autora:  Makbet\n"
     ]
    },
    {
     "name": "stdout",
     "output_type": "stream",
     "text": [
      "+----+--------------------------+----------------------------+---------------+---------------+\n",
      "|    | Tytuł                    | Autor                      | Rok wydania   | ISBN          |\n",
      "+====+==========================+============================+===============+===============+\n",
      "|  0 | Macbeth                  | William Shakespeare        | 1508          | 9780934048033 |\n",
      "+----+--------------------------+----------------------------+---------------+---------------+\n",
      "|  1 | Maḳ-beṭ                  | Eugène Ionesco             | 1975          | Brak ISBN     |\n",
      "+----+--------------------------+----------------------------+---------------+---------------+\n",
      "|  2 | Maḳbet                   | William Shakespeare        | 1999          | Brak ISBN     |\n",
      "+----+--------------------------+----------------------------+---------------+---------------+\n",
      "|  3 | Makbet                   | Iu Nesbe                   | 2018          | 5040929242    |\n",
      "+----+--------------------------+----------------------------+---------------+---------------+\n",
      "|  4 | Makbet                   | William Shakespeare        | 1950          | Brak ISBN     |\n",
      "+----+--------------------------+----------------------------+---------------+---------------+\n",
      "|  5 | Makbet                   | William Szekspir           | Nieznany rok  | 8366482790    |\n",
      "+----+--------------------------+----------------------------+---------------+---------------+\n",
      "|  6 | Makbet                   | Nieznany autor             | Nieznany rok  | 8373272518    |\n",
      "+----+--------------------------+----------------------------+---------------+---------------+\n",
      "|  7 | Makbet                   | Nieznany autor             | Nieznany rok  | 9788377916117 |\n",
      "+----+--------------------------+----------------------------+---------------+---------------+\n",
      "|  8 | Makbet                   | Uil'yam Shekspir, Andronum | 2018          | 1987549457    |\n",
      "+----+--------------------------+----------------------------+---------------+---------------+\n",
      "|  9 | ha-Ṭragedyah shel Maḳbet | William Shakespeare        | 1959          | Brak ISBN     |\n",
      "+----+--------------------------+----------------------------+---------------+---------------+\n"
     ]
    }
   ],
   "source": [
    "query = input(\"Wprowadź tytuł lub autora: \") # Zapytanie o dane książki do wyszukania \n",
    "search_results = search_books(query) # Utworzenie zmiennej przechowującej wyszukane książki\n",
    "if not search_results.empty: # Instrukcja warunkowa sprawdzająca, czy zmienna posiada jakieś wyniki wyszukiwania\n",
    "    print(tabulate(search_results, headers=\"keys\", tablefmt=\"grid\")) # Wyświetlenie zmiennej w formie tabeli, dopasowanie nagłówków i format siatki\n",
    "else:  # Uwzględnienie przypadku, w którym nie została znaleziona żadna książka w bazie\n",
    "    print(\"Nie znaleziono książek.\")"
   ]
  },
  {
   "cell_type": "markdown",
   "id": "5a755eb5-20ac-48cd-ab44-862c11fabdf0",
   "metadata": {},
   "source": [
    "### 📙 Fukcja dodania ksiązki do katalogu lokalnego 📙 "
   ]
  },
  {
   "cell_type": "code",
   "execution_count": 210,
   "id": "5494bf34-0917-4e6b-bf8a-c212b067c178",
   "metadata": {},
   "outputs": [],
   "source": [
    "def add_to_catalog(book):\n",
    "    global local_catalog # Deklaracja zmiennej globalnej potrzebnej do modyfikacji katalogu\n",
    "    local_catalog = pd.concat([local_catalog, book], ignore_index=True) # Połączenie istniejącego katalogu z nowym wpisem (indeksy są przeliczane od nowa)"
   ]
  },
  {
   "cell_type": "code",
   "execution_count": 286,
   "id": "52a3b032-2e6c-4165-b6ec-5c903667e222",
   "metadata": {},
   "outputs": [
    {
     "name": "stdout",
     "output_type": "stream",
     "text": [
      "+----+--------------------------+----------------------------+---------------+---------------+\n",
      "|    | Tytuł                    | Autor                      | Rok wydania   | ISBN          |\n",
      "+====+==========================+============================+===============+===============+\n",
      "|  0 | Macbeth                  | William Shakespeare        | 1508          | 9780934048033 |\n",
      "+----+--------------------------+----------------------------+---------------+---------------+\n",
      "|  1 | Maḳ-beṭ                  | Eugène Ionesco             | 1975          | Brak ISBN     |\n",
      "+----+--------------------------+----------------------------+---------------+---------------+\n",
      "|  2 | Maḳbet                   | William Shakespeare        | 1999          | Brak ISBN     |\n",
      "+----+--------------------------+----------------------------+---------------+---------------+\n",
      "|  3 | Makbet                   | Iu Nesbe                   | 2018          | 5040929242    |\n",
      "+----+--------------------------+----------------------------+---------------+---------------+\n",
      "|  4 | Makbet                   | William Shakespeare        | 1950          | Brak ISBN     |\n",
      "+----+--------------------------+----------------------------+---------------+---------------+\n",
      "|  5 | Makbet                   | William Szekspir           | Nieznany rok  | 8366482790    |\n",
      "+----+--------------------------+----------------------------+---------------+---------------+\n",
      "|  6 | Makbet                   | Nieznany autor             | Nieznany rok  | 8373272518    |\n",
      "+----+--------------------------+----------------------------+---------------+---------------+\n",
      "|  7 | Makbet                   | Nieznany autor             | Nieznany rok  | 9788377916117 |\n",
      "+----+--------------------------+----------------------------+---------------+---------------+\n",
      "|  8 | Makbet                   | Uil'yam Shekspir, Andronum | 2018          | 1987549457    |\n",
      "+----+--------------------------+----------------------------+---------------+---------------+\n",
      "|  9 | ha-Ṭragedyah shel Maḳbet | William Shakespeare        | 1959          | Brak ISBN     |\n",
      "+----+--------------------------+----------------------------+---------------+---------------+\n"
     ]
    },
    {
     "name": "stdin",
     "output_type": "stream",
     "text": [
      "Wybierz numer książki do dodania (0-9):  4\n"
     ]
    },
    {
     "name": "stdout",
     "output_type": "stream",
     "text": [
      "Książka 'Makbet' została dodana do katalogu.\n"
     ]
    }
   ],
   "source": [
    "if not search_results.empty: # Instrukcja warunkowa sprawdzająca, czy zmienna nie jest pusta\n",
    "    print(tabulate(search_results, headers=\"keys\", tablefmt=\"grid\")) # Wyświetlenie zmiennej w formie tabeli, dopasowanie nagłówków i format siatki\n",
    "    index = int(input(\"Wybierz numer książki do dodania (0-9): \")) # Zmienna zawierająca zapytanie o numer książki, która zostanie dodana do katalogu\n",
    "    if 0 <= index < len(search_results): # Instrukcja warunkowa sprawdzająca, czy zmienna indeks znajduje się w danym przedziale (od 0 do liczby wierszy w katalogu)\n",
    "        add_to_catalog(search_results.iloc[[index]]) # Funkcja dodania książki do katalogu przy użyciu iloc \n",
    "        print(f\"Książka '{search_results.iloc[index]['Tytuł']}' została dodana do katalogu.\") # Informacja o poprawnym wykonaniu operacji oraz wyświetlenie danych dodanej książki\n",
    "    else: # Uwzględnienie przypadku, w którym został podany nieprawidłowy numer książki\n",
    "        print(\"Nieprawidłowy wybór.\")"
   ]
  },
  {
   "cell_type": "markdown",
   "id": "d3835dd0-70b3-4661-af8b-f8d6d7877ccc",
   "metadata": {},
   "source": [
    "### 📘 Fukcja wyświetlenia książek w lokalnym katalogu 📘"
   ]
  },
  {
   "cell_type": "code",
   "execution_count": 213,
   "id": "05e22a85-3cec-4438-ac88-d4b792e72566",
   "metadata": {},
   "outputs": [],
   "source": [
    "def show_local_catalog():\n",
    "    global local_catalog # Deklaracja zmiennej globalnej potrzebnej do modyfikacji katalogu\n",
    "    if local_catalog.empty: # Instrukcja warunkowa sprawdzająca, czy katalog lokalny jest pusty oraz informująca o tym\n",
    "        print(\"Katalog jest pusty.\")\n",
    "    else:\n",
    "        print(tabulate(local_catalog, headers=\"keys\", tablefmt=\"grid\")) # Wyświetlenie katalogu w formie tabeli, dopasowanie nagłówków i format siatki"
   ]
  },
  {
   "cell_type": "code",
   "execution_count": 214,
   "id": "e76ae8b2-75c8-464a-890b-af10c169ab19",
   "metadata": {},
   "outputs": [
    {
     "name": "stdout",
     "output_type": "stream",
     "text": [
      "+----+------------+----------------+---------------+---------------+\n",
      "|    | Tytuł      | Autor          |   Rok wydania |          ISBN |\n",
      "+====+============+================+===============+===============+\n",
      "|  0 | The Hobbit | J.R.R. Tolkien |          1937 | 9780582186552 |\n",
      "+----+------------+----------------+---------------+---------------+\n"
     ]
    }
   ],
   "source": [
    "show_local_catalog() # Wywołanie funkcji"
   ]
  },
  {
   "cell_type": "markdown",
   "id": "d83b7d41-ea95-4c58-8647-e64012b60584",
   "metadata": {},
   "source": [
    "### 📕 Fukcja zapisu katalogu lokalnego do pliku CSV 📕"
   ]
  },
  {
   "cell_type": "code",
   "execution_count": 216,
   "id": "232bfa30-a03d-4598-af0c-a0261919c5c3",
   "metadata": {},
   "outputs": [],
   "source": [
    "def save_catalog_to_file(filename):\n",
    "    global local_catalog # Deklaracja zmiennej globalnej potrzebnej do modyfikacji katalogu\n",
    "    if local_catalog.empty: # Instrukcja warunkowa sprawdzająca, czy katalog lokalny jest pusty oraz informująca o tym\n",
    "        print(\"Katalog jest pusty.\")\n",
    "    else:\n",
    "        local_catalog.to_csv(filename, index=False) # Zapis katalogu do pliku CSV, bez dołączania indeksów (czystszy format danych) oraz informacja o pomyślnym zapisie\n",
    "        print(f\"Katalog został zapisany do pliku: {filename}\")"
   ]
  },
  {
   "cell_type": "code",
   "execution_count": 217,
   "id": "906ba525-f44e-4f55-a50a-f15105cd930b",
   "metadata": {},
   "outputs": [
    {
     "name": "stdin",
     "output_type": "stream",
     "text": [
      "Podaj nazwę pliku (np. katalog.csv):  katalog3.csv\n"
     ]
    },
    {
     "name": "stdout",
     "output_type": "stream",
     "text": [
      "Katalog został zapisany do pliku: katalog3.csv\n"
     ]
    }
   ],
   "source": [
    "filename = input(\"Podaj nazwę pliku (np. katalog.csv): \") # Zmienna zawierająca zapytanie o nazwę pliku do zapisu\n",
    "save_catalog_to_file(filename) # Wywołanie funkcji z wyżej podaną zmienną "
   ]
  },
  {
   "cell_type": "markdown",
   "id": "77d74c3b-5c37-471f-a993-c3de3bdba783",
   "metadata": {},
   "source": [
    "### 📓 Funkcja filtrowania katalogu lokalnego na podstawie autora 📓"
   ]
  },
  {
   "cell_type": "code",
   "execution_count": 219,
   "id": "26a99ec5-6678-4df6-8d71-0939ab38c662",
   "metadata": {},
   "outputs": [],
   "source": [
    "def filter_catalog_by_author(author):\n",
    "    global local_catalog # Deklaracja zmiennej globalnej potrzebnej do modyfikacji katalogu\n",
    "    filtered = local_catalog[local_catalog[\"Autor\"].str.contains(author, case=False, na=False)] # Stworzenie zmiennej filtrującej katalog książek według podanego autora\n",
    "    if filtered.empty: # Instrukcja warunkowa sprawdzająca, czy zmienna filtered jest pusta oraz informująca o tym\n",
    "        print(\"Nie znaleziono książek dla podanego autora.\")\n",
    "    else:\n",
    "        print(tabulate(filtered, headers=\"keys\", tablefmt=\"grid\")) # Wyświetlenie zmiennej w formie tabeli, dopasowanie nagłówków i format siatki"
   ]
  },
  {
   "cell_type": "code",
   "execution_count": 220,
   "id": "f20d7d35-e5b6-4dc6-b794-d811b1fe4ea1",
   "metadata": {},
   "outputs": [
    {
     "name": "stdin",
     "output_type": "stream",
     "text": [
      "Wprowadź nazwisko autora:  J.R.R. Tolkien\n"
     ]
    },
    {
     "name": "stdout",
     "output_type": "stream",
     "text": [
      "+----+------------+----------------+---------------+---------------+\n",
      "|    | Tytuł      | Autor          |   Rok wydania |          ISBN |\n",
      "+====+============+================+===============+===============+\n",
      "|  0 | The Hobbit | J.R.R. Tolkien |          1937 | 9780582186552 |\n",
      "+----+------------+----------------+---------------+---------------+\n"
     ]
    }
   ],
   "source": [
    "author = input(\"Wprowadź nazwisko autora: \") # Zmienna zawierająca zapytanie o nazwisko autora\n",
    "filter_catalog_by_author(author) # Wywołanie funkcji z wyżej podaną zmienną "
   ]
  },
  {
   "cell_type": "markdown",
   "id": "cec9af25-7aa3-41fd-b0a7-987a3af680df",
   "metadata": {},
   "source": [
    "### 📔 Fukcja usuwania książki z katalogu lokalnego na podstawie jej indeksu 📔"
   ]
  },
  {
   "cell_type": "code",
   "execution_count": 222,
   "id": "75e0a9b3-0923-4d22-9d4c-3ea99e2553b6",
   "metadata": {},
   "outputs": [],
   "source": [
    "def delete_book_from_catalog(index):\n",
    "    global local_catalog # Deklaracja zmiennej globalnej potrzebnej do modyfikacji katalogu\n",
    "    if 0 <= index < len(local_catalog): # Instrukcja warunkowa sprawdzająca, czy zmienna indeks znajduje się w danym przedziale (od 0 do liczby wierszy w katalogu)\n",
    "        deleted = local_catalog.iloc[index] # Pobieranie szczegółów książki na podstawie indeksu przy użyciu iloc i zapisanie ich do zmiennej aby wyświetlić dane usuniętej ksiązki\n",
    "        local_catalog = local_catalog.drop(index).reset_index(drop=True) # Usunięcie książki z katalogu lokalnego, resetując indeksy, aby były ciągłe po usunięciu\n",
    "        print(f\"Usunięto książkę: {deleted['Tytuł']} ({deleted['Autor']})\") # Wyświetlenie danych usuniętej książki oraz informacja o poprawnym wykonaniu operacji\n",
    "    else: # Uwzględnienie przypadku w którym zmienna indeks ma nieprawidłową wartość\n",
    "        print(\"Nieprawidłowy indeks.\") "
   ]
  },
  {
   "cell_type": "code",
   "execution_count": 223,
   "id": "61ffab84-9f13-438c-8443-88b6e1e18483",
   "metadata": {},
   "outputs": [
    {
     "name": "stdout",
     "output_type": "stream",
     "text": [
      "+----+------------+----------------+---------------+---------------+\n",
      "|    | Tytuł      | Autor          |   Rok wydania |          ISBN |\n",
      "+====+============+================+===============+===============+\n",
      "|  0 | The Hobbit | J.R.R. Tolkien |          1937 | 9780582186552 |\n",
      "+----+------------+----------------+---------------+---------------+\n"
     ]
    },
    {
     "name": "stdin",
     "output_type": "stream",
     "text": [
      "Podaj numer książki do usunięcia:  0\n"
     ]
    },
    {
     "name": "stdout",
     "output_type": "stream",
     "text": [
      "Usunięto książkę: The Hobbit (J.R.R. Tolkien)\n"
     ]
    }
   ],
   "source": [
    "show_local_catalog() # Wywołanie funkcji\n",
    "index = int(input(\"Podaj numer książki do usunięcia: \")) # Zmienna zawierająca zapytanie o numer książki\n",
    "delete_book_from_catalog(index) # Wywołanie funkcji z wyżej podaną zmienną "
   ]
  },
  {
   "cell_type": "markdown",
   "id": "73b97c31-25d0-47ba-8005-0a6eeb415d28",
   "metadata": {},
   "source": [
    "---"
   ]
  },
  {
   "cell_type": "markdown",
   "id": "24d7d339-9184-4fa1-acfd-f3c4976c2f96",
   "metadata": {},
   "source": [
    "<h2 style=\"height: 32px; background-color: #F5F5DC;\">2. 📊 Część analizy danych:</h2>"
   ]
  },
  {
   "cell_type": "markdown",
   "id": "69457143-9da2-45ef-bcdd-80a5a03b92e9",
   "metadata": {},
   "source": [
    "<h3 style=\"text-align: center; background-color: #DEB887; height: 24px; \">Wykres słupkowy poziomy: Liczba książek na autora</h3>"
   ]
  },
  {
   "cell_type": "markdown",
   "id": "69b61f97-d239-4d30-8ef3-a2231b0f6146",
   "metadata": {},
   "source": [
    "### Definiowanie funkcji"
   ]
  },
  {
   "cell_type": "code",
   "execution_count": 228,
   "id": "12f5ee60-fb8e-469c-b3b9-f81eee30a637",
   "metadata": {},
   "outputs": [],
   "source": [
    "def horizontal_bar_chart_books_per_author():\n",
    "    if local_catalog.empty: # Instrukcja warunkowa sprawdzająca, czy katalog jest pusty\n",
    "        print(\"Katalog jest pusty. Nie można wygenerować wykresu.\")\n",
    "        return\n",
    "    \n",
    "    author_counts = local_catalog[\"Autor\"].value_counts() # Zmienna zawierająca liczbę wystąpienia każdego autora w kolumnie \"Autor\"\n",
    "    plt.figure(figsize=(10, 6)) # Stworzenie figury\n",
    "    author_counts.plot(kind='barh', color='purple') # Rysowanie wykresu poziomego z fioletowymi słupkami\n",
    "    plt.title(\"Liczba książek na autora\") # Tytuł wykresu\n",
    "    plt.xlabel(\"Liczba książek\") # Oś X\n",
    "    plt.ylabel(\"Autor\") # Oś Y\n",
    "    plt.tight_layout() # Dostosowanie układu, aby wszystkie elementy wykresu były widoczne\n",
    "    plt.show() # Wyświetlenie wykresu"
   ]
  },
  {
   "cell_type": "markdown",
   "id": "22aa2cd7-1d98-4fff-8f91-1adfd55b20d4",
   "metadata": {},
   "source": [
    "### Wywołanie funkcji oraz wyświetlenie jej efektu"
   ]
  },
  {
   "cell_type": "code",
   "execution_count": 288,
   "id": "af48fda9-a79b-4aaf-bda2-5da354f304b6",
   "metadata": {},
   "outputs": [
    {
     "data": {
      "image/png": "[encoded data removed]",
      "text/plain": [
       "<Figure size 1000x600 with 1 Axes>"
      ]
     },
     "metadata": {},
     "output_type": "display_data"
    }
   ],
   "source": [
    "horizontal_bar_chart_books_per_author()"
   ]
  },
  {
   "cell_type": "markdown",
   "id": "9f45860b-a78b-4a92-8964-db578a021c73",
   "metadata": {},
   "source": [
    "<h3 style=\"text-align: center; background-color: #DEB887; height: 24px; \">Wykres kołowy: Udział książek autorów w katalogu</h3>"
   ]
  },
  {
   "cell_type": "markdown",
   "id": "b54e37e1-9419-4a79-86ae-fc274aa2b9df",
   "metadata": {},
   "source": [
    "### Definiowanie funkcji"
   ]
  },
  {
   "cell_type": "code",
   "execution_count": 233,
   "id": "6584a2e9-62cc-477a-94c1-a69e2513d30c",
   "metadata": {},
   "outputs": [],
   "source": [
    "def pie_chart_books_per_author():\n",
    "    if local_catalog.empty:  # Instrukcja warunkowa sprawdzająca, czy katalog jest pusty\n",
    "        print(\"Katalog jest pusty. Nie można wygenerować wykresu.\")\n",
    "        return\n",
    "    \n",
    "    author_counts = local_catalog[\"Autor\"].value_counts() # Zmienna zawierająca liczbę wystąpienia każdego autora w kolumnie \"Autor\"\n",
    "    plt.figure(figsize=(8, 8)) # Stworzenie figury\n",
    "    author_counts.plot(kind='pie', autopct='%1.1f%%', startangle=90, colors=plt.cm.Paired.colors) # Generowanie wykresu kołowego \n",
    "    plt.title(\"Udział książek autorów w katalogu\") # Tytuł wykresu\n",
    "    plt.ylabel(\"\")  # Usunięcie etykiety na osi Y\n",
    "    plt.show() # Wyświetlenie wykresu"
   ]
  },
  {
   "cell_type": "markdown",
   "id": "e0de698e-b250-44d1-8566-535bfae5088d",
   "metadata": {},
   "source": [
    "### Wywołanie funkcji oraz wyświetlenie jej efektu"
   ]
  },
  {
   "cell_type": "code",
   "execution_count": 290,
   "id": "3e03cee4-6399-49e6-81d1-8d7c4851eb0f",
   "metadata": {},
   "outputs": [
    {
     "data": {
      "image/png": "[encoded data removed]",
      "text/plain": [
       "<Figure size 800x800 with 1 Axes>"
      ]
     },
     "metadata": {},
     "output_type": "display_data"
    }
   ],
   "source": [
    "pie_chart_books_per_author()"
   ]
  },
  {
   "cell_type": "markdown",
   "id": "c0a59d21-8337-40fe-9b93-3ce400130876",
   "metadata": {},
   "source": [
    "<h3 style=\"text-align: center; background-color: #DEB887; height: 24px;\">Znajdź najstarsze i najnowsze książki w katalogu</h3>"
   ]
  },
  {
   "cell_type": "markdown",
   "id": "46901745-afe8-4755-9ebb-5735482cbc40",
   "metadata": {},
   "source": [
    "### Definiowanie funkcji"
   ]
  },
  {
   "cell_type": "code",
   "execution_count": 238,
   "id": "9b4eb5e0-849e-4fd7-9a8c-a5c8400a90b3",
   "metadata": {},
   "outputs": [],
   "source": [
    "def oldest_and_newest_books():\n",
    "    if local_catalog.empty:  # Instrukcja warunkowa sprawdzająca, czy katalog jest pusty\n",
    "        print(\"Katalog jest pusty. Brak danych do analizy.\")\n",
    "        return\n",
    "    \n",
    "    local_catalog[\"Rok wydania\"] = pd.to_numeric(local_catalog[\"Rok wydania\"], errors='coerce') # Konwertowanie kolumny \"Rok wydania\" na wartości numeryczne i zastąpienie błędnych wartości (np. teksty) wartością NaN\n",
    "    oldest = local_catalog.loc[local_catalog[\"Rok wydania\"].idxmin()] # Znalezienie wiersza odpowiadającego najstarszej książce na podstawie minimalnego roku wydania\n",
    "    newest = local_catalog.loc[local_catalog[\"Rok wydania\"].idxmax()] # Znalezienie wiersza odpowiadającego najnowszej książce na podstawie maksymalnego roku wydania\n",
    "    print(\"Najstarsza książka w katalogu:\") # Wyświetlenie szczegółów najstarszej książki\n",
    "    print(oldest)\n",
    "    print(\"\\nNajnowsza książka w katalogu:\") # Wyświetlenie szczegółów najnowszej książki\n",
    "    print(newest)"
   ]
  },
  {
   "cell_type": "markdown",
   "id": "24efbad6-5c28-4cbf-be80-8e3a74fb9a59",
   "metadata": {},
   "source": [
    "### Wywołanie funkcji oraz wyświetlenie jej efektu"
   ]
  },
  {
   "cell_type": "code",
   "execution_count": 292,
   "id": "d5389565-8cba-4c16-a175-48c8a8de358b",
   "metadata": {},
   "outputs": [
    {
     "name": "stdout",
     "output_type": "stream",
     "text": [
      "Najstarsza książka w katalogu:\n",
      "Tytuł              The Hobbit\n",
      "Autor          J.R.R. Tolkien\n",
      "Rok wydania              1937\n",
      "ISBN            9780582186552\n",
      "Name: 0, dtype: object\n",
      "\n",
      "Najnowsza książka w katalogu:\n",
      "Tytuł           Harry Potter\n",
      "Autor          J. K. Rowling\n",
      "Rok wydania             2001\n",
      "ISBN           9780747575443\n",
      "Name: 1, dtype: object\n"
     ]
    }
   ],
   "source": [
    "oldest_and_newest_books()"
   ]
  },
  {
   "cell_type": "markdown",
   "id": "d01e1553-9145-4802-ad79-c865372ad62a",
   "metadata": {},
   "source": [
    "<h3 style=\"text-align: center; background-color: #DEB887; height: 24px; \">Analiza brakujących numerów ISBN</h3>"
   ]
  },
  {
   "cell_type": "markdown",
   "id": "d42e6854-cd28-424a-9270-832fe43946cc",
   "metadata": {},
   "source": [
    "### Definiowanie funkcji"
   ]
  },
  {
   "cell_type": "code",
   "execution_count": 243,
   "id": "856080a2-d7d9-41f5-9e17-52348df05cd1",
   "metadata": {},
   "outputs": [],
   "source": [
    "def missing_isbn_analysis():\n",
    "    if local_catalog.empty: # Instrukcja warunkowa sprawdzająca, czy katalog jest pusty\n",
    "        print(\"Katalog jest pusty. Brak danych do analizy.\")\n",
    "        return\n",
    "    \n",
    "    missing_isbn = local_catalog[local_catalog[\"ISBN\"] == \"Brak ISBN\"] # Filtrowanie katalogu, aby znaleźć książki, które mają w kolumnie \"ISBN\" wartość \"Brak ISBN\"\n",
    "    print(f\"Liczba książek bez ISBN: {len(missing_isbn)}\") # Wyświetlenie liczby książek bez ISBN\n",
    "    if not missing_isbn.empty: # Instrukcja warunkowa wyświetlająca szczegóły książek bez ISBN\n",
    "        print(\"Książki bez numeru ISBN:\")\n",
    "        print(tabulate(missing_isbn, headers=\"keys\", tablefmt=\"grid\")) # Wyświetlenie zmiennej w formie tabeli, dopasowanie nagłówków i format siatki"
   ]
  },
  {
   "cell_type": "markdown",
   "id": "afa4cd4f-3e0a-4a90-9ac8-332ca85dfce8",
   "metadata": {},
   "source": [
    "### Wywołanie funkcji oraz wyświetlenie jej efektu"
   ]
  },
  {
   "cell_type": "code",
   "execution_count": 294,
   "id": "87dc3d1a-0ac8-4fad-b5c3-40c7225651c3",
   "metadata": {},
   "outputs": [
    {
     "name": "stdout",
     "output_type": "stream",
     "text": [
      "Liczba książek bez ISBN: 1\n",
      "Książki bez numeru ISBN:\n",
      "+----+---------+---------------------+---------------+-----------+\n",
      "|    | Tytuł   | Autor               |   Rok wydania | ISBN      |\n",
      "+====+=========+=====================+===============+===========+\n",
      "|  2 | Makbet  | William Shakespeare |          1950 | Brak ISBN |\n",
      "+----+---------+---------------------+---------------+-----------+\n"
     ]
    }
   ],
   "source": [
    "missing_isbn_analysis()"
   ]
  },
  {
   "cell_type": "markdown",
   "id": "b05c2b5f-3a8e-457a-bd95-0f5ecef3495f",
   "metadata": {},
   "source": [
    "<h3 style=\"text-align: center; background-color: #DEB887; height: 24px; \">Histogram: Rozkład liczby książek na lata wydania</h3>"
   ]
  },
  {
   "cell_type": "markdown",
   "id": "3a79585b-708c-44fe-b6fa-5f3c937cfe56",
   "metadata": {},
   "source": [
    "### Definiowanie funkcji"
   ]
  },
  {
   "cell_type": "code",
   "execution_count": 248,
   "id": "fe747cce-6566-4d1f-8d83-7246fa0138f9",
   "metadata": {},
   "outputs": [],
   "source": [
    "def histogram_publication_years():\n",
    "    if local_catalog.empty: # Instrukcja warunkowa sprawdzająca, czy katalog jest pusty\n",
    "        print(\"Katalog jest pusty. Nie można wygenerować wykresu.\")\n",
    "        return\n",
    "    \n",
    "    local_catalog[\"Rok wydania\"] = pd.to_numeric(local_catalog[\"Rok wydania\"], errors='coerce') # Konwertowanie kolumny \"Rok wydania\" na wartości numeryczne i zastąpienie błędnych wartości (np. teksty) wartością NaN\n",
    "    plt.figure(figsize=(10, 6)) # Tworzenie figury\n",
    "    plt.hist(local_catalog[\"Rok wydania\"].dropna(), bins=10, color='orange', edgecolor='black') # Tworzenie histogramu\n",
    "    plt.title(\"Rozkład liczby książek na lata wydania\") # Tytuł wykresu\n",
    "    plt.xlabel(\"Rok wydania\") # Oś X\n",
    "    plt.ylabel(\"Liczba książek\") # Oś Y\n",
    "    plt.grid(True) # Dodanie siatki do wykresu\n",
    "    plt.show() # Wyświetlenie wykresu"
   ]
  },
  {
   "cell_type": "markdown",
   "id": "c69e716e-0def-4c7d-b1b6-ac867a87a479",
   "metadata": {},
   "source": [
    "### Wywołanie funkcji oraz wyświetlenie jej efektu"
   ]
  },
  {
   "cell_type": "code",
   "execution_count": 296,
   "id": "8d1893f0-782c-4301-9697-ed8f6ecfd5dc",
   "metadata": {},
   "outputs": [
    {
     "data": {
      "image/png": "[encoded data removed]",
      "text/plain": [
       "<Figure size 1000x600 with 1 Axes>"
      ]
     },
     "metadata": {},
     "output_type": "display_data"
    }
   ],
   "source": [
    "histogram_publication_years()"
   ]
  },
  {
   "cell_type": "markdown",
   "id": "debaaa2f-963b-4e20-b710-ef2d2ba3bfee",
   "metadata": {},
   "source": [
    "---"
   ]
  }
 ],
 "metadata": {
  "kernelspec": {
   "display_name": "Python 3 (ipykernel)",
   "language": "python",
   "name": "python3"
  },
  "language_info": {
   "codemirror_mode": {
    "name": "ipython",
    "version": 3
   },
   "file_extension": ".py",
   "mimetype": "text/x-python",
   "name": "python",
   "nbconvert_exporter": "python",
   "pygments_lexer": "ipython3",
   "version": "3.12.4"
  }
 },
 "nbformat": 4,
 "nbformat_minor": 5
}
